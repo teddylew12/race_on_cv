{
 "cells": [
  {
   "cell_type": "code",
   "execution_count": 1,
   "metadata": {},
   "outputs": [],
   "source": [
    "import numpy as np\n",
    "from ATDetector import ATDetector\n",
    "import cv2\n",
    "from time import sleep\n",
    "from IPython.display import clear_output\n",
    "import matplotlib.pyplot as plt\n",
    "%matplotlib inline"
   ]
  },
  {
   "cell_type": "code",
   "execution_count": 2,
   "metadata": {},
   "outputs": [],
   "source": [
    "# Information about the camera we are using\n",
    "camera = {}\n",
    "#Camera Intrinsic Matrix (3x3)\n",
    "camera[\"K\"] = np.array(\n",
    "    [[631.6058624841243, 0.0, 673.9002987027918], [0.0, 627.4303222760955, 380.85431690312384], [0.0, 0.0, 1.0]])\n",
    "#Fisheye Camera Distortion Matrix\n",
    "camera[\"D\"] = np.array(\n",
    "    [[-0.031080677599846774], [-0.006061559072085696], [-0.0011641369792770276], [0.00028577486827623653]])\n",
    "camera[\"fisheye\"] = True\n",
    "camera[\"flipped\"] = True\n",
    "#Rotation Matrix from World to Camera Frame if Camera is Flipped\n",
    "camera[\"flip_correction\"]=np.array([[-1.,0.,0.],[0.,-1.,0.],[0.,0.,1.]])\n",
    "camera[\"res\"] = (1280, 760)\n",
    "#fx,fy,cx,cy from K\n",
    "camera[\"params\"] = [631.605, 627.43, 673.9, 380.85]"
   ]
  },
  {
   "cell_type": "code",
   "execution_count": 3,
   "metadata": {},
   "outputs": [],
   "source": [
    "#Scale Factor for Showing Images\n",
    "SCALE=.3\n",
    "#Information about the Tags\n",
    "tags = {}\n",
    "#To add more families, seperate with a space instead of using a list\n",
    "families = \"tagStandard52h13\"\n",
    "#Size of Tag in Meters\n",
    "tag_size = .04\n"
   ]
  },
  {
   "cell_type": "code",
   "execution_count": 4,
   "metadata": {},
   "outputs": [],
   "source": [
    "#Create Detector\n",
    "detect=ATDetector(families,tag_size,camera)"
   ]
  },
  {
   "cell_type": "code",
   "execution_count": null,
   "metadata": {},
   "outputs": [
    {
     "name": "stdout",
     "output_type": "stream",
     "text": [
      "> \u001b[1;32mc:\\users\\ted\\desktop\\race_on\\race_on_cv\\atdetector.py\u001b[0m(55)\u001b[0;36mestimate_image_pose\u001b[1;34m()\u001b[0m\n",
      "\u001b[1;32m     53 \u001b[1;33m            \u001b[0mpose\u001b[0m\u001b[1;33m=\u001b[0m\u001b[0mtag\u001b[0m\u001b[1;33m.\u001b[0m\u001b[0mpose_t\u001b[0m\u001b[1;33m\u001b[0m\u001b[1;33m\u001b[0m\u001b[0m\n",
      "\u001b[0m\u001b[1;32m     54 \u001b[1;33m            \u001b[1;32mimport\u001b[0m \u001b[0mpdb\u001b[0m\u001b[1;33m;\u001b[0m\u001b[0mpdb\u001b[0m\u001b[1;33m.\u001b[0m\u001b[0mset_trace\u001b[0m\u001b[1;33m(\u001b[0m\u001b[1;33m)\u001b[0m\u001b[1;33m\u001b[0m\u001b[1;33m\u001b[0m\u001b[0m\n",
      "\u001b[0m\u001b[1;32m---> 55 \u001b[1;33m            \u001b[1;32mif\u001b[0m \u001b[0mself\u001b[0m\u001b[1;33m.\u001b[0m\u001b[0mcamera\u001b[0m\u001b[1;33m[\u001b[0m\u001b[1;34m\"flipped\"\u001b[0m\u001b[1;33m]\u001b[0m\u001b[1;33m:\u001b[0m\u001b[1;33m\u001b[0m\u001b[1;33m\u001b[0m\u001b[0m\n",
      "\u001b[0m\u001b[1;32m     56 \u001b[1;33m                \u001b[0mpose\u001b[0m \u001b[1;33m=\u001b[0m \u001b[0mnp\u001b[0m\u001b[1;33m.\u001b[0m\u001b[0mmatmul\u001b[0m\u001b[1;33m(\u001b[0m\u001b[0mself\u001b[0m\u001b[1;33m.\u001b[0m\u001b[0mcamera\u001b[0m\u001b[1;33m[\u001b[0m\u001b[1;34m\"flip_correction\"\u001b[0m\u001b[1;33m]\u001b[0m\u001b[1;33m,\u001b[0m \u001b[0mtag\u001b[0m\u001b[1;33m.\u001b[0m\u001b[0mpose_t\u001b[0m\u001b[1;33m)\u001b[0m\u001b[1;33m\u001b[0m\u001b[1;33m\u001b[0m\u001b[0m\n",
      "\u001b[0m\u001b[1;32m     57 \u001b[1;33m            \u001b[0mtag_id\u001b[0m\u001b[1;33m=\u001b[0m\u001b[0mtag\u001b[0m\u001b[1;33m.\u001b[0m\u001b[0mtag_id\u001b[0m\u001b[1;33m\u001b[0m\u001b[1;33m\u001b[0m\u001b[0m\n",
      "\u001b[0m\n",
      "ipdb> ta\n",
      "*** NameError: name 'ta' is not defined\n",
      "ipdb> tag\n",
      "Detection object:\n",
      "tag_family = b'tagStandard52h13'\n",
      "tag_id = 3\n",
      "hamming = 0\n",
      "decision_margin = 63.89543533325195\n",
      "homography = [[-9.85648068e+00  4.80465856e+00  8.09144549e+02]\n",
      " [ 1.75388709e+00 -1.01111610e+01  4.44065028e+02]\n",
      " [ 3.87699399e-03  5.95702527e-03  1.00000000e+00]]\n",
      "center = [809.14454867 444.06502798]\n",
      "corners = [[822.09570312 431.30285645]\n",
      " [796.26226807 431.46472168]\n",
      " [796.1394043  456.88040161]\n",
      " [822.28271484 456.9156189 ]]\n",
      "pose_R = [[-0.99631909 -0.01053795  0.08507189]\n",
      " [ 0.00803143 -0.99952504 -0.02975221]\n",
      " [ 0.08534501 -0.02895945  0.99593051]]\n",
      "pose_t = [[0.21058854]\n",
      " [0.09919716]\n",
      " [0.98326529]]\n",
      "pose_err = 1.3301104358663932e-07\n",
      "\n"
     ]
    }
   ],
   "source": [
    "#Predetermined Tag Locations, where two tags are 10 inches apart from each other on a flat table\n",
    "tag_locations={}\n",
    "tag_locations[4]=np.array([[.127],[0.],[0.]])\n",
    "tag_locations[3]=np.array([[-.127],[0.],[0.]])\n",
    "fname=\"Images/two_tags_pose.png\"\n",
    "detect.estimate_image_pose(fname,tag_locations)\n"
   ]
  },
  {
   "cell_type": "code",
   "execution_count": 6,
   "metadata": {},
   "outputs": [],
   "source": [
    "#Overlay detections on the Image\n",
    "detect.visualize_image_detections(fname)"
   ]
  },
  {
   "cell_type": "code",
   "execution_count": 17,
   "metadata": {},
   "outputs": [],
   "source": [
    "fname=\"Videos/x_and_z_2.h264\"\n",
    "#Get Locations for each frame\n",
    "poses=detect.estimate_video_pose(fname,tag_locations,show_animation=False)"
   ]
  },
  {
   "cell_type": "code",
   "execution_count": 14,
   "metadata": {},
   "outputs": [
    {
     "name": "stdout",
     "output_type": "stream",
     "text": [
      "Warning: No Tag Found in Frame\n",
      "Warning: No Tag Found in Frame\n",
      "Warning: No Tag Found in Frame\n",
      "Warning: No Tag Found in Frame\n",
      "Warning: No Tag Found in Frame\n",
      "Warning: No Tag Found in Frame\n",
      "Warning: No Tag Found in Frame\n",
      "Warning: No Tag Found in Frame\n",
      "Warning: No Tag Found in Frame\n",
      "Warning: No Tag Found in Frame\n",
      "Warning: No Tag Found in Frame\n",
      "Warning: No Tag Found in Frame\n",
      "Warning: No Tag Found in Frame\n",
      "Warning: No Tag Found in Frame\n",
      "Warning: No Tag Found in Frame\n",
      "Warning: No Tag Found in Frame\n",
      "Warning: No Tag Found in Frame\n",
      "Warning: No Tag Found in Frame\n",
      "Warning: No Tag Found in Frame\n",
      "Warning: No Tag Found in Frame\n",
      "Warning: No Tag Found in Frame\n",
      "Warning: No Tag Found in Frame\n",
      "Warning: No Tag Found in Frame\n",
      "Warning: No Tag Found in Frame\n",
      "Warning: No Tag Found in Frame\n",
      "Warning: No Tag Found in Frame\n",
      "Warning: No Tag Found in Frame\n",
      "Warning: No Tag Found in Frame\n",
      "Warning: No Tag Found in Frame\n",
      "Warning: No Tag Found in Frame\n",
      "Warning: No Tag Found in Frame\n",
      "Warning: No Tag Found in Frame\n",
      "Warning: No Tag Found in Frame\n",
      "Warning: No Tag Found in Frame\n",
      "Warning: No Tag Found in Frame\n",
      "Warning: No Tag Found in Frame\n",
      "Warning: No Tag Found in Frame\n",
      "Warning: No Tag Found in Frame\n",
      "Warning: No Tag Found in Frame\n",
      "Warning: No Tag Found in Frame\n",
      "Warning: No Tag Found in Frame\n",
      "Warning: No Tag Found in Frame\n",
      "Warning: No Tag Found in Frame\n",
      "Warning: No Tag Found in Frame\n",
      "Warning: No Tag Found in Frame\n",
      "Warning: No Tag Found in Frame\n",
      "Warning: No Tag Found in Frame\n",
      "Warning: No Tag Found in Frame\n",
      "Warning: No Tag Found in Frame\n",
      "Warning: No Tag Found in Frame\n",
      "Warning: No Tag Found in Frame\n",
      "Warning: No Tag Found in Frame\n",
      "Warning: No Tag Found in Frame\n",
      "Warning: No Tag Found in Frame\n"
     ]
    }
   ],
   "source": [
    "#Overlay detections on the Video\n",
    "detect.visualize_video_detections(fname)"
   ]
  },
  {
   "cell_type": "code",
   "execution_count": 18,
   "metadata": {},
   "outputs": [
    {
     "data": {
      "image/png": "[encoded data removed]",
      "text/plain": [
       "<Figure size 432x288 with 1 Axes>"
      ]
     },
     "metadata": {
      "needs_background": "light"
     },
     "output_type": "display_data"
    }
   ],
   "source": [
    "\n",
    "plt.figure()\n",
    "#Create Color Wheel\n",
    "phi = np.linspace(0, 2*np.pi, poses.shape[1])\n",
    "x = np.sin(phi)\n",
    "y = np.cos(phi)\n",
    "rgb_cycle = np.vstack((           \n",
    "    .5*(1.+np.cos(phi)), \n",
    "    .5*(1.+np.cos(phi+2*np.pi/3)), \n",
    "    .5*(1.+np.cos(phi-2*np.pi/3)))).T \n",
    "#Animation Loop\n",
    "for i in range(poses.shape[1]):\n",
    "    plt.scatter(poses[0,:i],poses[2,:i],c=rgb_cycle[:i])\n",
    "    plt.show()\n",
    "    sleep(0.1)\n",
    "    clear_output(wait=True)"
   ]
  }
 ],
 "metadata": {
  "kernelspec": {
   "display_name": "raceon",
   "language": "python",
   "name": "raceon"
  },
  "language_info": {
   "codemirror_mode": {
    "name": "ipython",
    "version": 3
   },
   "file_extension": ".py",
   "mimetype": "text/x-python",
   "name": "python",
   "nbconvert_exporter": "python",
   "pygments_lexer": "ipython3",
   "version": "3.7.9"
  }
 },
 "nbformat": 4,
 "nbformat_minor": 2
}
