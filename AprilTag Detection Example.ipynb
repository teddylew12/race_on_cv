{
 "cells": [
  {
   "cell_type": "markdown",
   "metadata": {},
   "source": [
    "# Working with AprilTags\n",
    "\n",
    "This notebook will show you how to work with AprilTags for visualization and pose estimation. See the Apriltags Markdown file and Fisheye Calibration Markdown file for the theory behind it.\n",
    "\n",
    "#### Imports and Global Parameters"
   ]
  },
  {
   "cell_type": "code",
   "execution_count": 1,
   "metadata": {},
   "outputs": [],
   "source": [
    "import numpy as np\n",
    "from ATDetector import ATDetector\n",
    "import cv2\n",
    "from time import sleep\n",
    "from IPython.display import clear_output\n",
    "import matplotlib.pyplot as plt\n",
    "%matplotlib inline\n",
    "\n",
    "#Scale Factor for Showing Images\n",
    "SCALE = .3"
   ]
  },
  {
   "cell_type": "markdown",
   "metadata": {},
   "source": [
    "####  Camera\n",
    "To use the AprilTags, we need information about the camera we are using, specifically:\n",
    "- Camera Resolution\n",
    "- Intrinsic matrix for pose estimation\n",
    "- Distortion Array for fisheye Undistortion\n",
    "- Fisheye flag if camera is fisheye"
   ]
  },
  {
   "cell_type": "code",
   "execution_count": 2,
   "metadata": {},
   "outputs": [],
   "source": [
    "camera = {}\n",
    "#Camera Resolution\n",
    "camera[\"res\"] = (1280, 760)\n",
    "#Camera Intrinsic Matrix (3x3)\n",
    "camera[\"K\"] = np.array(\n",
    "    [[631.6058624841243, 0.0, 673.9002987027918], [0.0, 627.4303222760955, 380.85431690312384], [0.0, 0.0, 1.0]])\n",
    "#The non-default elements of the K array, in the AprilTag specification\n",
    "camera[\"params\"] = [631.605, 627.43, 673.9, 380.85]\n",
    "#Fisheye Camera Distortion Matrix\n",
    "camera[\"D\"] = np.array(\n",
    "    [[-0.031080677599846774], [-0.006061559072085696], [-0.0011641369792770276], [0.00028577486827623653]])\n",
    "#Fisheye flag\n",
    "camera[\"fisheye\"] = True\n"
   ]
  },
  {
   "cell_type": "markdown",
   "metadata": {},
   "source": [
    "#### Tag Information\n",
    "To use the AprilTags, we need information about the tags we are using, specifically:\n",
    "- Tag Families\n",
    "- Size of the tag (in meters)\n",
    "- (Optional) Location of the tags in the world frame"
   ]
  },
  {
   "cell_type": "code",
   "execution_count": 3,
   "metadata": {},
   "outputs": [],
   "source": [
    "tags = {}\n",
    "#To add more families, seperate with a space instead of using a list\n",
    "families = \"tagStandard52h13\"\n",
    "#Size of Tag in Meters\n",
    "tag_size = .04\n",
    "#Tag Locations\n",
    "tag_locations = {}\n",
    "tag_locations[4] = np.array([[.127],[0.],[0.]])\n",
    "tag_locations[3] = np.array([[-.127],[0.],[0.]])"
   ]
  },
  {
   "cell_type": "code",
   "execution_count": 4,
   "metadata": {},
   "outputs": [],
   "source": [
    "#Create Detector\n",
    "detect=ATDetector(families,tag_size,camera)"
   ]
  },
  {
   "cell_type": "markdown",
   "metadata": {},
   "source": [
    "### Working with Images\n",
    "\n",
    "There are 3 main functions to use when working with a single image:\n",
    "- Visualize Image Detections -> Takes a filename and displays information about the tags overlaid on the image.\n",
    "- Estimate Image Position -> Takes a filename and prints the estimated camera location according to each detected tag.\n",
    "- Estimate Image Orientation -> Takes a filename and prints the estimated camera orientation according to each detected tag."
   ]
  },
  {
   "cell_type": "code",
   "execution_count": 5,
   "metadata": {},
   "outputs": [
    {
     "ename": "error",
     "evalue": "OpenCV(4.4.0) /tmp/pip-wheel-b0jd8w40/opencv-contrib-python/opencv/modules/imgproc/src/imgwarp.cpp:668: error: (-215:Assertion failed) !ssize.empty() in function 'remapBilinear'\n",
     "output_type": "error",
     "traceback": [
      "\u001b[0;31m---------------------------------------------------------------------------\u001b[0m",
      "\u001b[0;31merror\u001b[0m                                     Traceback (most recent call last)",
      "\u001b[0;32m<ipython-input-5-af48a5a55685>\u001b[0m in \u001b[0;36m<module>\u001b[0;34m\u001b[0m\n\u001b[1;32m      2\u001b[0m \u001b[0mfname\u001b[0m \u001b[0;34m=\u001b[0m \u001b[0;34m\"~/Desktop/0.png\"\u001b[0m\u001b[0;34m\u001b[0m\u001b[0;34m\u001b[0m\u001b[0m\n\u001b[1;32m      3\u001b[0m \u001b[0;31m#Overlay detections on the Image\u001b[0m\u001b[0;34m\u001b[0m\u001b[0;34m\u001b[0m\u001b[0;34m\u001b[0m\u001b[0m\n\u001b[0;32m----> 4\u001b[0;31m \u001b[0mdetect\u001b[0m\u001b[0;34m.\u001b[0m\u001b[0mvisualize_image_detections\u001b[0m\u001b[0;34m(\u001b[0m\u001b[0mfname\u001b[0m\u001b[0;34m)\u001b[0m\u001b[0;34m\u001b[0m\u001b[0;34m\u001b[0m\u001b[0m\n\u001b[0m",
      "\u001b[0;32m~/race_on_cv/ATDetector.py\u001b[0m in \u001b[0;36mvisualize_image_detections\u001b[0;34m(self, fname, scale)\u001b[0m\n\u001b[1;32m    115\u001b[0m     \u001b[0;32mdef\u001b[0m \u001b[0mvisualize_image_detections\u001b[0m\u001b[0;34m(\u001b[0m\u001b[0mself\u001b[0m\u001b[0;34m,\u001b[0m \u001b[0mfname\u001b[0m\u001b[0;34m,\u001b[0m \u001b[0mscale\u001b[0m\u001b[0;34m=\u001b[0m\u001b[0;36m.3\u001b[0m\u001b[0;34m)\u001b[0m\u001b[0;34m:\u001b[0m\u001b[0;34m\u001b[0m\u001b[0;34m\u001b[0m\u001b[0m\n\u001b[1;32m    116\u001b[0m         \u001b[0mimg\u001b[0m \u001b[0;34m=\u001b[0m \u001b[0mcv2\u001b[0m\u001b[0;34m.\u001b[0m\u001b[0mimread\u001b[0m\u001b[0;34m(\u001b[0m\u001b[0mfname\u001b[0m\u001b[0;34m,\u001b[0m \u001b[0mcv2\u001b[0m\u001b[0;34m.\u001b[0m\u001b[0mIMREAD_GRAYSCALE\u001b[0m\u001b[0;34m)\u001b[0m\u001b[0;34m\u001b[0m\u001b[0;34m\u001b[0m\u001b[0m\n\u001b[0;32m--> 117\u001b[0;31m         \u001b[0mcolor\u001b[0m \u001b[0;34m=\u001b[0m \u001b[0mself\u001b[0m\u001b[0;34m.\u001b[0m\u001b[0mvisualize_frame\u001b[0m\u001b[0;34m(\u001b[0m\u001b[0mimg\u001b[0m\u001b[0;34m,\u001b[0m \u001b[0mscale\u001b[0m\u001b[0;34m)\u001b[0m\u001b[0;34m\u001b[0m\u001b[0;34m\u001b[0m\u001b[0m\n\u001b[0m\u001b[1;32m    118\u001b[0m         \u001b[0mcv2\u001b[0m\u001b[0;34m.\u001b[0m\u001b[0mimshow\u001b[0m\u001b[0;34m(\u001b[0m\u001b[0;34m\"Image With Detections\"\u001b[0m\u001b[0;34m,\u001b[0m \u001b[0mcolor\u001b[0m\u001b[0;34m)\u001b[0m\u001b[0;34m\u001b[0m\u001b[0;34m\u001b[0m\u001b[0m\n\u001b[1;32m    119\u001b[0m         \u001b[0mcv2\u001b[0m\u001b[0;34m.\u001b[0m\u001b[0mwaitKey\u001b[0m\u001b[0;34m(\u001b[0m\u001b[0;36m0\u001b[0m\u001b[0;34m)\u001b[0m\u001b[0;34m\u001b[0m\u001b[0;34m\u001b[0m\u001b[0m\n",
      "\u001b[0;32m~/race_on_cv/ATDetector.py\u001b[0m in \u001b[0;36mvisualize_frame\u001b[0;34m(self, img, scale)\u001b[0m\n\u001b[1;32m     90\u001b[0m     \u001b[0;32mdef\u001b[0m \u001b[0mvisualize_frame\u001b[0m\u001b[0;34m(\u001b[0m\u001b[0mself\u001b[0m\u001b[0;34m,\u001b[0m \u001b[0mimg\u001b[0m\u001b[0;34m,\u001b[0m \u001b[0mscale\u001b[0m\u001b[0;34m)\u001b[0m\u001b[0;34m:\u001b[0m\u001b[0;34m\u001b[0m\u001b[0;34m\u001b[0m\u001b[0m\n\u001b[1;32m     91\u001b[0m         \u001b[0;32mif\u001b[0m \u001b[0mself\u001b[0m\u001b[0;34m.\u001b[0m\u001b[0mcamera\u001b[0m\u001b[0;34m[\u001b[0m\u001b[0;34m\"fisheye\"\u001b[0m\u001b[0;34m]\u001b[0m\u001b[0;34m:\u001b[0m\u001b[0;34m\u001b[0m\u001b[0;34m\u001b[0m\u001b[0m\n\u001b[0;32m---> 92\u001b[0;31m             \u001b[0mimg\u001b[0m \u001b[0;34m=\u001b[0m \u001b[0mself\u001b[0m\u001b[0;34m.\u001b[0m\u001b[0mundistort\u001b[0m\u001b[0;34m(\u001b[0m\u001b[0mimg\u001b[0m\u001b[0;34m)\u001b[0m\u001b[0;34m\u001b[0m\u001b[0;34m\u001b[0m\u001b[0m\n\u001b[0m\u001b[1;32m     93\u001b[0m         \u001b[0mdetected_tags\u001b[0m \u001b[0;34m=\u001b[0m \u001b[0mself\u001b[0m\u001b[0;34m.\u001b[0m\u001b[0mdetector\u001b[0m\u001b[0;34m.\u001b[0m\u001b[0mdetect\u001b[0m\u001b[0;34m(\u001b[0m\u001b[0mimg\u001b[0m\u001b[0;34m,\u001b[0m \u001b[0mestimate_tag_pose\u001b[0m\u001b[0;34m=\u001b[0m\u001b[0;32mFalse\u001b[0m\u001b[0;34m)\u001b[0m\u001b[0;34m\u001b[0m\u001b[0;34m\u001b[0m\u001b[0m\n\u001b[1;32m     94\u001b[0m         \u001b[0;32mif\u001b[0m \u001b[0;32mnot\u001b[0m \u001b[0mdetected_tags\u001b[0m\u001b[0;34m:\u001b[0m\u001b[0;34m\u001b[0m\u001b[0;34m\u001b[0m\u001b[0m\n",
      "\u001b[0;32m~/race_on_cv/ATDetector.py\u001b[0m in \u001b[0;36mundistort\u001b[0;34m(self, img)\u001b[0m\n\u001b[1;32m    179\u001b[0m                                                          self.camera[\"K\"], self.camera[\"res\"], cv2.CV_16SC2)\n\u001b[1;32m    180\u001b[0m \u001b[0;34m\u001b[0m\u001b[0m\n\u001b[0;32m--> 181\u001b[0;31m         \u001b[0;32mreturn\u001b[0m \u001b[0mcv2\u001b[0m\u001b[0;34m.\u001b[0m\u001b[0mremap\u001b[0m\u001b[0;34m(\u001b[0m\u001b[0mimg\u001b[0m\u001b[0;34m,\u001b[0m \u001b[0mmap1\u001b[0m\u001b[0;34m,\u001b[0m \u001b[0mmap2\u001b[0m\u001b[0;34m,\u001b[0m \u001b[0minterpolation\u001b[0m\u001b[0;34m=\u001b[0m\u001b[0mcv2\u001b[0m\u001b[0;34m.\u001b[0m\u001b[0mINTER_LINEAR\u001b[0m\u001b[0;34m)\u001b[0m\u001b[0;34m\u001b[0m\u001b[0;34m\u001b[0m\u001b[0m\n\u001b[0m",
      "\u001b[0;31merror\u001b[0m: OpenCV(4.4.0) /tmp/pip-wheel-b0jd8w40/opencv-contrib-python/opencv/modules/imgproc/src/imgwarp.cpp:668: error: (-215:Assertion failed) !ssize.empty() in function 'remapBilinear'\n"
     ]
    }
   ],
   "source": [
    "#Example Image\n",
    "fname = \"Images/two_tags_pose.png\"\n",
    "#Overlay detections on the Image\n",
    "detect.visualize_image_detections(fname)"
   ]
  },
  {
   "cell_type": "code",
   "execution_count": null,
   "metadata": {},
   "outputs": [],
   "source": [
    "detect.estimate_image_position(fname,tag_locations)"
   ]
  },
  {
   "cell_type": "markdown",
   "metadata": {},
   "source": [
    "### Working with Videos\n",
    "\n",
    "There are 3 main functions to use when working with a single video:\n",
    "- Visualize Video Detections -> Takes a filename and displays information about the tags overlaid on the video.<br>\n",
    "- Estimate Video Position -> Takes a filename and returns a matrix with the camera position for each frame. <br>\n",
    "- Estimate Video Orientation -> Takes a filename and returns a matrix with the camera orientation for each frame. <br>\n"
   ]
  },
  {
   "cell_type": "code",
   "execution_count": null,
   "metadata": {},
   "outputs": [],
   "source": [
    "#Overlay detections on the Video\n",
    "fname=\"Videos/x_and_z_2.h264\"\n",
    "detect.visualize_video_detections(fname)"
   ]
  },
  {
   "cell_type": "code",
   "execution_count": null,
   "metadata": {},
   "outputs": [],
   "source": [
    "#Get Positions for each frame\n",
    "positions = detect.estimate_video_position(fname,tag_locations)\n",
    "#Get Orientations for each frame\n",
    "orientations = detect.estimate_video_orientation(fname)"
   ]
  },
  {
   "cell_type": "markdown",
   "metadata": {},
   "source": [
    "### Visualizing Position Estimation\n",
    "\n",
    "The cell below plots a graph with the position of the camera in the previous video. As you can see it is not very accurate and very noisy. Stay tuned for further improvements to make this better with Kalman filtering!\n"
   ]
  },
  {
   "cell_type": "code",
   "execution_count": null,
   "metadata": {},
   "outputs": [],
   "source": [
    "plt.figure()\n",
    "#Create Color Wheel\n",
    "phi = np.linspace(0, 2*np.pi, positions.shape[1])\n",
    "x = np.sin(phi)\n",
    "y = np.cos(phi)\n",
    "rgb_cycle = np.vstack((           \n",
    "    .5*(1.+np.cos(phi)), \n",
    "    .5*(1.+np.cos(phi+2*np.pi/3)), \n",
    "    .5*(1.+np.cos(phi-2*np.pi/3)))).T \n",
    "#Animation Loop\n",
    "for i in range(positions.shape[1]):\n",
    "    plt.scatter(positions[0,:i],positions[2,:i],c=rgb_cycle[:i])\n",
    "    plt.show()\n",
    "    sleep(0.1)\n",
    "    clear_output(wait=True)"
   ]
  }
 ],
 "metadata": {
  "kernelspec": {
   "display_name": "Python 3",
   "language": "python",
   "name": "python3"
  },
  "language_info": {
   "codemirror_mode": {
    "name": "ipython",
    "version": 3
   },
   "file_extension": ".py",
   "mimetype": "text/x-python",
   "name": "python",
   "nbconvert_exporter": "python",
   "pygments_lexer": "ipython3",
   "version": "3.7.3"
  }
 },
 "nbformat": 4,
 "nbformat_minor": 2
}
